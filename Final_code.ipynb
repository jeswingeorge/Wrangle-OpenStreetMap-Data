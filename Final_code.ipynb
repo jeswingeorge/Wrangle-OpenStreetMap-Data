{
 "cells": [
  {
   "cell_type": "code",
   "execution_count": 1,
   "metadata": {
    "collapsed": true
   },
   "outputs": [],
   "source": [
    "# Importing modules\n",
    "import xml.etree.cElementTree as ET\n",
    "from collections import defaultdict\n",
    "import re\n",
    "import pprint\n",
    "import csv\n",
    "import codecs\n",
    "import cerberus\n",
    "import schema"
   ]
  },
  {
   "cell_type": "markdown",
   "metadata": {},
   "source": [
    "# Auditing and cleaning street names"
   ]
  },
  {
   "cell_type": "code",
   "execution_count": 2,
   "metadata": {
    "collapsed": true
   },
   "outputs": [],
   "source": [
    "OSMFILE = \"new-delhi_india.osm\"\n",
    "street_type_re = re.compile(r'\\b\\S+\\.?$', re.IGNORECASE)"
   ]
  },
  {
   "cell_type": "code",
   "execution_count": 3,
   "metadata": {
    "collapsed": true
   },
   "outputs": [],
   "source": [
    "expected = [\"Street\", \"Avenue\", \"Plaza\",\"Colony\", \"Lane\", \"Road\", \"Vihar\", \"University\", \"Patparganj\",\"Marg\",\"Area\",\"Market\",\n",
    "           \"Enclave\"];\n",
    "\n",
    "mapping = { \"St\": \"Street\",\n",
    "            \"St.\": \"Street\",\n",
    "            \"Rd\": \"Road\",\n",
    "            \"Ave\": \"Avenue\",\n",
    "            \"Raod\": \"Road\",\n",
    "            }"
   ]
  },
  {
   "cell_type": "code",
   "execution_count": 4,
   "metadata": {
    "collapsed": true
   },
   "outputs": [],
   "source": [
    "def audit_street_type(street_types, street_name):\n",
    "    m = street_type_re.search(street_name)\n",
    "    if m:\n",
    "        street_type = m.group()\n",
    "        if street_type not in expected:\n",
    "            street_types[street_type].add(street_name)\n",
    "\n",
    "def is_street_name(elem):\n",
    "    return (elem.attrib['k'] == \"addr:street\")"
   ]
  },
  {
   "cell_type": "code",
   "execution_count": 5,
   "metadata": {
    "collapsed": true
   },
   "outputs": [],
   "source": [
    "def audit(osmfile):\n",
    "    osm_file = open(osmfile, \"r\")\n",
    "    street_types = defaultdict(set)\n",
    "    for event, elem in ET.iterparse(osm_file, events=(\"start\",)):\n",
    "\n",
    "        if elem.tag == \"node\" or elem.tag == \"way\":\n",
    "            for tag in elem.iter(\"tag\"):\n",
    "                if is_street_name(tag):\n",
    "                    audit_street_type(street_types, tag.attrib['v'])\n",
    "    osm_file.close()\n",
    "    return street_types"
   ]
  },
  {
   "cell_type": "code",
   "execution_count": 6,
   "metadata": {
    "collapsed": true
   },
   "outputs": [],
   "source": [
    "# This function is used for cleaning the street names\n",
    "def update_name(name, mapping):\n",
    "    \n",
    "    unwanted = ['(',')','/']  # List of unwanted characters \n",
    "    ch_name = ''                  # Create an empty string \n",
    "    \n",
    "    # for loop to remove unwanted characters\n",
    "    for i in range(len(name)):\n",
    "        if name[i] not in unwanted:\n",
    "            ch_name = ch_name + name[i]\n",
    "    \n",
    "    # Slicing to remove '-'\n",
    "    if ch_name[0]=='-':\n",
    "        ch_name = ch_name[1:]\n",
    "    if ch_name[-1]=='-' or ch_name[-1]==',':\n",
    "        ch_name = ch_name[:-1]\n",
    "    \n",
    "    # To remove postal codes from street name\n",
    "    if '-' in ch_name:\n",
    "        ch = ch_name.split('-')\n",
    "        if len(ch[1])>=4:\n",
    "            ch_name = ch[0]\n",
    "    \n",
    "    \n",
    "    # Capitalize the first letter of each street name and convert other letters to lower case\n",
    "    low_name = ch_name.lower()\n",
    "    if ' ' in low_name:\n",
    "        ch_name = ''\n",
    "        t = low_name.split(' ')\n",
    "        for i in t:\n",
    "            ch_name = ch_name + ' ' + i.capitalize()\n",
    "    else:\n",
    "        ch_name = low_name.capitalize()\n",
    "           \n",
    "    # Mapping \n",
    "    k = mapping.keys()\n",
    "    key_list = list(k)\n",
    "    for abrev in key_list:\n",
    "        if abrev in ch_name.split():\n",
    "            ch_name = ch_name.replace(abrev,mapping[abrev])\n",
    "    \n",
    "    \n",
    "    return ch_name"
   ]
  },
  {
   "cell_type": "code",
   "execution_count": 8,
   "metadata": {
    "collapsed": true
   },
   "outputs": [],
   "source": [
    "def test():\n",
    "    st_types = audit(OSMFILE)\n",
    "    #pprint.pprint(dict(st_types))\n",
    "    \n",
    "    for st_type, ways in st_types.iteritems():\n",
    "        for name in ways:\n",
    "            better_name = update_name(name, mapping)\n",
    "            #print(\"Name : {}  >>  Better name : {}\".format(name,better_name))\n",
    "            "
   ]
  },
  {
   "cell_type": "code",
   "execution_count": 9,
   "metadata": {
    "collapsed": true
   },
   "outputs": [],
   "source": [
    "if __name__ == '__main__':\n",
    "    test()"
   ]
  },
  {
   "cell_type": "markdown",
   "metadata": {},
   "source": [
    "# Preparing for Database - SQL"
   ]
  },
  {
   "cell_type": "code",
   "execution_count": 10,
   "metadata": {
    "collapsed": true
   },
   "outputs": [],
   "source": [
    "OSM_PATH = \"new-delhi_india.osm\"\n",
    "NODES_PATH = \"nodes.csv\"\n",
    "NODE_TAGS_PATH = \"nodes_tags.csv\"\n",
    "WAYS_PATH = \"ways.csv\"\n",
    "WAY_NODES_PATH = \"ways_nodes.csv\"\n",
    "WAY_TAGS_PATH = \"ways_tags.csv\""
   ]
  },
  {
   "cell_type": "code",
   "execution_count": 11,
   "metadata": {
    "collapsed": true
   },
   "outputs": [],
   "source": [
    "LOWER_COLON = re.compile(r'^([a-z]|_)+:([a-z]|_)+')\n",
    "PROBLEMCHARS = re.compile(r'[=\\+/&<>;\\'\"\\?%#$@\\,\\. \\t\\r\\n]')"
   ]
  },
  {
   "cell_type": "code",
   "execution_count": 12,
   "metadata": {
    "collapsed": true
   },
   "outputs": [],
   "source": [
    "SCHEMA = schema.schema"
   ]
  },
  {
   "cell_type": "code",
   "execution_count": 13,
   "metadata": {
    "collapsed": true
   },
   "outputs": [],
   "source": [
    "NODE_FIELDS = ['id', 'lat', 'lon', 'user', 'uid', 'version', 'changeset', 'timestamp']\n",
    "NODE_TAGS_FIELDS = ['id', 'key', 'value', 'type']\n",
    "WAY_FIELDS = ['id', 'user', 'uid', 'version', 'changeset', 'timestamp']\n",
    "WAY_TAGS_FIELDS = ['id', 'key', 'value', 'type']\n",
    "WAY_NODES_FIELDS = ['id', 'node_id', 'position']"
   ]
  },
  {
   "cell_type": "code",
   "execution_count": 14,
   "metadata": {
    "collapsed": true
   },
   "outputs": [],
   "source": [
    "def shape_element(element, node_attr_fields=NODE_FIELDS, way_attr_fields=WAY_FIELDS,\n",
    "                  problem_chars=PROBLEMCHARS, default_tag_type='regular'):\n",
    "    \"\"\"Clean and shape node or way XML element to Python dict\"\"\"\n",
    "\n",
    "    node_attribs = {}\n",
    "    way_attribs = {}\n",
    "    way_nodes = []\n",
    "    tags = []  # Handle secondary tags the same way for both node and way elements\n",
    "    \n",
    "    if element.tag == 'node':\n",
    "        for i in node_attr_fields:\n",
    "            node_attribs[i]=element.attrib[i]\n",
    "        \n",
    "        for second_tag in element.iter('tag'):\n",
    "            if PROBLEMCHARS.match(second_tag.attrib['k']):\n",
    "                break\n",
    "            else:\n",
    "                tag_elements = {}\n",
    "                tag_elements['id'] = element.attrib['id']\n",
    "                tag_elements['value'] = second_tag.attrib['v']\n",
    "                if ':' in second_tag.attrib['k']:\n",
    "                    k_value = second_tag.attrib['k'].split(':',1)\n",
    "                    tag_elements['type'] = k_value[0]\n",
    "                    tag_elements['key'] = k_value[1]\n",
    "                else:\n",
    "                    tag_elements['type'] = default_tag_type\n",
    "                    tag_elements['key'] = second_tag.attrib['k']\n",
    "                tags.append(tag_elements)\n",
    "                \n",
    "        return({'node': node_attribs, 'node_tags': tags})\n",
    "    \n",
    "    elif element.tag == 'way':\n",
    "        \n",
    "        for i in WAY_FIELDS:\n",
    "            way_attribs[i]=element.attrib[i]\n",
    "        \n",
    "        for second_tag in element.iter('tag'):\n",
    "            if PROBLEMCHARS.match(second_tag.attrib['k']):\n",
    "                    break\n",
    "            else:\n",
    "                tag_elements = {}\n",
    "                tag_elements['id'] = element.attrib['id']\n",
    "                tag_elements['value'] = second_tag.attrib['v']\n",
    "                if ':' in second_tag.attrib['k']:\n",
    "                    k_value = second_tag.attrib['k'].split(':',1)\n",
    "                    tag_elements['type'] = k_value[0]\n",
    "                    tag_elements['key'] = k_value[1]\n",
    "                else:\n",
    "                    tag_elements['type'] = 'regular'\n",
    "                    tag_elements['key'] = second_tag.attrib['k']\n",
    "                tags.append(tag_elements)\n",
    "        \n",
    "        pos = 0\n",
    "        for node in element.iter('nd'):\n",
    "            waynd_dt = {}\n",
    "            waynd_dt['id'] = element.attrib['id']\n",
    "            waynd_dt['node_id'] = node.attrib['ref']\n",
    "            waynd_dt['position'] = pos\n",
    "            pos += 1\n",
    "            way_nodes.append(waynd_dt)\n",
    "            \n",
    "        return({'way': way_attribs, 'way_nodes': way_nodes, 'way_tags': tags})\n"
   ]
  },
  {
   "cell_type": "markdown",
   "metadata": {},
   "source": [
    "## Helper Functions  "
   ]
  },
  {
   "cell_type": "code",
   "execution_count": 15,
   "metadata": {
    "collapsed": true
   },
   "outputs": [],
   "source": [
    "def get_element(osm_file, tags=('node', 'way', 'relation')):\n",
    "    \"\"\"Yield element if it is the right type of tag\"\"\"\n",
    "\n",
    "    context = ET.iterparse(osm_file, events=('start', 'end'))\n",
    "    _, root = next(context)\n",
    "    for event, elem in context:\n",
    "        if event == 'end' and elem.tag in tags:\n",
    "            yield elem\n",
    "            root.clear()\n",
    "\n",
    "\n",
    "def validate_element(element, validator, schema=SCHEMA):\n",
    "    \"\"\"Raise ValidationError if element does not match schema\"\"\"\n",
    "    if validator.validate(element, schema) is not True:\n",
    "        field, errors = next(validator.errors.iteritems())\n",
    "        message_string = \"\\nElement of type '{0}' has the following errors:\\n{1}\"\n",
    "        error_string = pprint.pformat(errors)\n",
    "        \n",
    "        raise Exception(message_string.format(field, error_string))\n",
    "\n",
    "class UnicodeDictWriter(csv.DictWriter, object):\n",
    "    \"\"\"Extend csv.DictWriter to handle Unicode input\"\"\"\n",
    "\n",
    "    def writerow(self, row):\n",
    "        super(UnicodeDictWriter, self).writerow({\n",
    "            k: (v.encode('utf-8') if isinstance(v, unicode) else v) for k, v in row.iteritems()\n",
    "        })\n",
    "\n",
    "    def writerows(self, rows):\n",
    "        for row in rows:\n",
    "            self.writerow(row)\n",
    "            \n",
    "\n",
    "def process_map(file_in, validate):\n",
    "    \"\"\"Iteratively process each XML element and write to csv(s)\"\"\"\n",
    "\n",
    "    with codecs.open(NODES_PATH, 'w') as nodes_file, \\\n",
    "         codecs.open(NODE_TAGS_PATH, 'w') as nodes_tags_file, \\\n",
    "         codecs.open(WAYS_PATH, 'w') as ways_file, \\\n",
    "        codecs.open(WAY_NODES_PATH, 'w') as way_nodes_file, \\\n",
    "         codecs.open(WAY_TAGS_PATH, 'w') as way_tags_file:\n",
    "\n",
    "        nodes_writer = UnicodeDictWriter(nodes_file, NODE_FIELDS)\n",
    "        node_tags_writer = UnicodeDictWriter(nodes_tags_file, NODE_TAGS_FIELDS)\n",
    "        ways_writer = UnicodeDictWriter(ways_file, WAY_FIELDS)\n",
    "        way_nodes_writer = UnicodeDictWriter(way_nodes_file, WAY_NODES_FIELDS)\n",
    "        way_tags_writer = UnicodeDictWriter(way_tags_file, WAY_TAGS_FIELDS)\n",
    "\n",
    "        nodes_writer.writeheader()\n",
    "        node_tags_writer.writeheader()\n",
    "        ways_writer.writeheader()\n",
    "        way_nodes_writer.writeheader()\n",
    "        way_tags_writer.writeheader()\n",
    "\n",
    "        validator = cerberus.Validator()\n",
    "\n",
    "        for element in get_element(file_in, tags=('node', 'way')):\n",
    "            el = shape_element(element)\n",
    "            if el:\n",
    "                if validate is True:\n",
    "                    validate_element(el, validator)\n",
    "\n",
    "                if element.tag == 'node':\n",
    "                    nodes_writer.writerow(el['node'])\n",
    "                    node_tags_writer.writerows(el['node_tags'])\n",
    "                elif element.tag == 'way':\n",
    "                    ways_writer.writerow(el['way'])\n",
    "                    way_nodes_writer.writerows(el['way_nodes'])\n",
    "                    way_tags_writer.writerows(el['way_tags'])\n"
   ]
  },
  {
   "cell_type": "code",
   "execution_count": 16,
   "metadata": {
    "collapsed": true
   },
   "outputs": [],
   "source": [
    "if __name__ == '__main__':\n",
    "    process_map(OSM_PATH, validate=True)"
   ]
  },
  {
   "cell_type": "code",
   "execution_count": null,
   "metadata": {
    "collapsed": true
   },
   "outputs": [],
   "source": []
  }
 ],
 "metadata": {
  "kernelspec": {
   "display_name": "Python 2",
   "language": "python",
   "name": "python2"
  },
  "language_info": {
   "codemirror_mode": {
    "name": "ipython",
    "version": 2
   },
   "file_extension": ".py",
   "mimetype": "text/x-python",
   "name": "python",
   "nbconvert_exporter": "python",
   "pygments_lexer": "ipython2",
   "version": "2.7.13"
  }
 },
 "nbformat": 4,
 "nbformat_minor": 2
}

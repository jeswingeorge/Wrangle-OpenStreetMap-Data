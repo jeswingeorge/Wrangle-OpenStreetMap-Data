{
 "cells": [
  {
   "cell_type": "markdown",
   "metadata": {},
   "source": [
    "# OpenStreetMap Data Case Study\n",
    "\n",
    "## Map Area\n",
    "\n",
    "* https://www.openstreetmap.org/node/3401391999\n",
    "* https://mapzen.com/data/metro-extracts/metro/bengaluru_india/"
   ]
  },
  {
   "cell_type": "markdown",
   "metadata": {},
   "source": [
    "## Data Overview and Additional Ideas\n",
    "\n",
    "### Files size\n",
    "\n",
    "* bengaluru_india.osm.bz2 (compressed) --------- 38.2 MB\n",
    "\n",
    "* bengaluru_india.osm ---------------------------------- 618 MB"
   ]
  },
  {
   "cell_type": "code",
   "execution_count": null,
   "metadata": {
    "collapsed": true
   },
   "outputs": [],
   "source": []
  }
 ],
 "metadata": {
  "kernelspec": {
   "display_name": "Python 2",
   "language": "python",
   "name": "python2"
  },
  "language_info": {
   "codemirror_mode": {
    "name": "ipython",
    "version": 2
   },
   "file_extension": ".py",
   "mimetype": "text/x-python",
   "name": "python",
   "nbconvert_exporter": "python",
   "pygments_lexer": "ipython2",
   "version": "2.7.13"
  }
 },
 "nbformat": 4,
 "nbformat_minor": 2
}

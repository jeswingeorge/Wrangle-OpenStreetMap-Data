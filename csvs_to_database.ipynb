{
 "cells": [
  {
   "cell_type": "code",
   "execution_count": 10,
   "metadata": {
    "collapsed": true
   },
   "outputs": [],
   "source": [
    "import sqlite3\n",
    "import csv\n",
    "from pprint import pprint"
   ]
  },
  {
   "cell_type": "code",
   "execution_count": 11,
   "metadata": {
    "collapsed": true
   },
   "outputs": [],
   "source": [
    "# Connect to the database (if it doesn't exist, it will be created in the folder that your notebook is in):\n",
    "sqlite_file = 'delhi.db'    # name of the sqlite database file\n",
    "\n",
    "# Connect to the database\n",
    "conn = sqlite3.connect(sqlite_file)"
   ]
  },
  {
   "cell_type": "code",
   "execution_count": 12,
   "metadata": {
    "collapsed": true
   },
   "outputs": [],
   "source": [
    "# Get a cursor object\n",
    "cur = conn.cursor()"
   ]
  },
  {
   "cell_type": "markdown",
   "metadata": {},
   "source": [
    "## Create the table nodes"
   ]
  },
  {
   "cell_type": "code",
   "execution_count": 13,
   "metadata": {},
   "outputs": [
    {
     "name": "stdout",
     "output_type": "stream",
     "text": [
      "1):\n",
      "[(16173236,\n",
      "  28.6141793,\n",
      "  77.2022662,\n",
      "  u'rene78',\n",
      "  257555,\n",
      "  54,\n",
      "  u'51057587',\n",
      "  u'2017-08-12T13:26:29Z'),\n",
      " (47432940,\n",
      "  28.7358314,\n",
      "  77.1578638,\n",
      "  u'Oberaffe',\n",
      "  56597,\n",
      "  6,\n",
      "  u'12209101',\n",
      "  u'2012-07-13T17:31:55Z'),\n",
      " (58043990,\n",
      "  28.5421965,\n",
      "  77.1675024,\n",
      "  u'H_S_Rai',\n",
      "  5456,\n",
      "  1,\n",
      "  u'505778',\n",
      "  u'2007-09-23T02:35:38Z')]\n"
     ]
    }
   ],
   "source": [
    "# Create the table nodes, specifying the column names and data types:\n",
    "cur.execute(''' CREATE TABLE nodes(id INTEGER, lat INTEGER, lon INTEGER, user TEXT, uid INTEGER, version INTEGER, changeset TEXT,\n",
    "timestamp TEXT)\n",
    "''')\n",
    "\n",
    "# commit the changes\n",
    "conn.commit()\n",
    "\n",
    "# Read in the csv file as a dictionary, format the\n",
    "# data as a list of tuples:\n",
    "with open('nodes.csv','rb') as fin:\n",
    "    dr = csv.DictReader(fin) # comma is default delimiter\n",
    "    to_db = [(i['id'].decode(\"utf-8\"), i['lat'].decode(\"utf-8\"), i['lon'].decode(\"utf-8\"), i['user'].decode(\"utf-8\"),\n",
    "             i['uid'].decode(\"utf-8\"), i['version'].decode(\"utf-8\"), i['changeset'].decode(\"utf-8\"), \n",
    "              i['timestamp'].decode(\"utf-8\")) \n",
    "               \n",
    "             for i in dr]\n",
    "    \n",
    "# insert the formatted data\n",
    "cur.executemany(\"INSERT INTO nodes(id, lat, lon, user, uid, version, changeset, timestamp) VALUES (?, ?, ?, ?, ?, ?, ?, ?);\", \n",
    "                to_db)\n",
    "# commit the changes\n",
    "conn.commit()\n",
    "\n",
    "#check that the data imported correctly\n",
    "\n",
    "cur.execute('SELECT * FROM nodes LIMIT 3')\n",
    "all_rows = cur.fetchall()\n",
    "print('1):')\n",
    "pprint(all_rows)"
   ]
  },
  {
   "cell_type": "markdown",
   "metadata": {},
   "source": [
    "## Create the table nodes_tags"
   ]
  },
  {
   "cell_type": "code",
   "execution_count": 14,
   "metadata": {},
   "outputs": [
    {
     "name": "stdout",
     "output_type": "stream",
     "text": [
      "1):\n",
      "[(16173236, u'admin_level', u'6', u'regular'),\n",
      " (16173236, u'capital', u'yes', u'regular'),\n",
      " (16173236, u'is_capital', u'country', u'regular'),\n",
      " (16173236, u'is_in', u'National Capital Region, NCR, India', u'regular'),\n",
      " (16173236, u'continent', u'Asia', u'is_in')]\n"
     ]
    }
   ],
   "source": [
    "# Create the table, specifying the column names and data types:\n",
    "cur.execute(''' CREATE TABLE nodes_tags(id INTEGER, key INTEGER, value TEXT, type TEXT) ''')\n",
    "\n",
    "# commit the changes\n",
    "conn.commit()\n",
    "\n",
    "# Read in the csv file as a dictionary, format the\n",
    "# data as a list of tuples:\n",
    "\n",
    "with open('nodes_tags.csv','rb') as fin:\n",
    "    dr = csv.DictReader(fin) # comma is default delimiter\n",
    "    to_db = [(i['id'].decode(\"utf-8\"), i['key'].decode(\"utf-8\"), i['value'].decode(\"utf-8\"), i['type'].decode(\"utf-8\")) \n",
    "               for i in dr]\n",
    "    \n",
    "# insert the formatted data\n",
    "cur.executemany(\"INSERT INTO nodes_tags(id, key, value, type) VALUES (?, ?, ?, ?);\", to_db)\n",
    "# commit the changes\n",
    "conn.commit()\n",
    "\n",
    "#check that the data imported correctly\n",
    "\n",
    "cur.execute('SELECT * FROM nodes_tags LIMIT 5')\n",
    "all_rows = cur.fetchall()\n",
    "print('1):')\n",
    "pprint(all_rows)"
   ]
  },
  {
   "cell_type": "markdown",
   "metadata": {},
   "source": [
    "## Create the table ways"
   ]
  },
  {
   "cell_type": "code",
   "execution_count": 15,
   "metadata": {},
   "outputs": [
    {
     "name": "stdout",
     "output_type": "stream",
     "text": [
      "1):\n",
      "[(5873630, u'15Tr', 1987359, 78, u'36984586', u'2016-02-03T20:02:01Z'),\n",
      " (7891819, u'satyaakam', 81656, 2, u'18193716', u'2013-10-05T11:24:44Z'),\n",
      " (7892104, u'H_S_Rai', 5456, 1, u'505778', u'2007-09-23T02:41:01Z'),\n",
      " (7892285, u'bindhu', 2901516, 6, u'39900122', u'2016-06-09T06:57:30Z'),\n",
      " (7892369, u'bindhu', 2901516, 3, u'39877868', u'2016-06-08T06:58:15Z')]\n"
     ]
    }
   ],
   "source": [
    "# Create the table, specifying the column names and data types:\n",
    "cur.execute(''' CREATE TABLE ways(id INTEGER, user TEXT, uid INTEGER, version INTEGER, changeset TEXT,\n",
    "timestamp TEXT) ''')\n",
    "\n",
    "# commit the changes\n",
    "conn.commit()\n",
    "\n",
    "# Read in the csv file as a dictionary, format the\n",
    "# data as a list of tuples:\n",
    "\n",
    "with open('ways.csv','rb') as fin:\n",
    "    dr = csv.DictReader(fin) # comma is default delimiter\n",
    "    to_db = [(i['id'].decode(\"utf-8\"), i['user'].decode(\"utf-8\"), i['uid'].decode(\"utf-8\"), i['version'].decode(\"utf-8\"),\n",
    "             i['changeset'].decode(\"utf-8\"), i['timestamp'].decode(\"utf-8\")) \n",
    "               for i in dr]\n",
    "\n",
    "    \n",
    "# insert the formatted data\n",
    "cur.executemany(\"INSERT INTO ways(id, user, uid, version, changeset, timestamp) VALUES (?, ?, ?, ?, ?, ?);\", to_db)\n",
    "# commit the changes\n",
    "conn.commit()\n",
    "\n",
    "#check that the data imported correctly\n",
    "\n",
    "cur.execute('SELECT * FROM ways LIMIT 5')\n",
    "all_rows = cur.fetchall()\n",
    "print('1):')\n",
    "pprint(all_rows)"
   ]
  },
  {
   "cell_type": "markdown",
   "metadata": {},
   "source": [
    "## Create the table ways_nodes"
   ]
  },
  {
   "cell_type": "code",
   "execution_count": 16,
   "metadata": {},
   "outputs": [
    {
     "name": "stdout",
     "output_type": "stream",
     "text": [
      "1):\n",
      "[(5873630, 838393152, 0),\n",
      " (5873630, 838393223, 1),\n",
      " (5873630, 938622356, 2),\n",
      " (5873630, 427851220, 3),\n",
      " (5873630, 250075337, 4)]\n"
     ]
    }
   ],
   "source": [
    "# Create the table.\n",
    "#Before you (re)create the table, you will have to drop the table if it already exists: \n",
    "\n",
    "cur.execute('''DROP TABLE IF EXISTS ways_nodes''')\n",
    "conn.commit()\n",
    "\n",
    "# Create the table, specifying the column names and data types:\n",
    "cur.execute(''' CREATE TABLE ways_nodes(id INTEGER, node_id INTEGER, position INTEGER) ''')\n",
    "\n",
    "# commit the changes\n",
    "conn.commit()\n",
    "\n",
    "# Read in the csv file as a dictionary, format the\n",
    "# data as a list of tuples:\n",
    "\n",
    "with open('ways_nodes.csv','rb') as fin:\n",
    "    dr = csv.DictReader(fin) # comma is default delimiter\n",
    "    to_db = [(i['id'].decode(\"utf-8\"), i['node_id'].decode(\"utf-8\"), i['position'].decode(\"utf-8\")) \n",
    "               for i in dr]\n",
    "\n",
    "# insert the formatted data\n",
    "cur.executemany(\"INSERT INTO ways_nodes(id, node_id, position) VALUES (?, ?, ?);\", to_db)\n",
    "# commit the changes\n",
    "conn.commit()\n",
    "\n",
    "#check that the data imported correctly\n",
    "\n",
    "cur.execute('SELECT * FROM ways_nodes LIMIT 5')\n",
    "all_rows = cur.fetchall()\n",
    "print('1):')\n",
    "pprint(all_rows)"
   ]
  },
  {
   "cell_type": "markdown",
   "metadata": {},
   "source": [
    "## Create the table ways_tags"
   ]
  },
  {
   "cell_type": "code",
   "execution_count": 17,
   "metadata": {},
   "outputs": [
    {
     "name": "stdout",
     "output_type": "stream",
     "text": [
      "1):\n",
      "[(5873630, u'name', u'Mahatma Gandhi Road', u'regular'),\n",
      " (5873630, u'oneway', u'yes', u'regular'),\n",
      " (5873630, u'highway', u'primary', u'regular'),\n",
      " (5873630, u'int_ref', u'AH1;AH2', u'regular'),\n",
      " (7891819,\n",
      "  u'name',\n",
      "  u'School of Computional and Integrative Sciences',\n",
      "  u'regular')]\n"
     ]
    }
   ],
   "source": [
    "# Create the table.\n",
    "#Before you (re)create the table, you will have to drop the table if it already exists: \n",
    "\n",
    "cur.execute('''DROP TABLE IF EXISTS ways_tags''')\n",
    "conn.commit()\n",
    "\n",
    "# Create the table, specifying the column names and data types:\n",
    "cur.execute(''' CREATE TABLE ways_tags(id INTEGER, key INTEGER, value TEXT, type TEXT) ''')\n",
    "\n",
    "# commit the changes\n",
    "conn.commit()\n",
    "\n",
    "# Read in the csv file as a dictionary, format the\n",
    "# data as a list of tuples:\n",
    "\n",
    "with open('ways_tags.csv','rb') as fin:\n",
    "    dr = csv.DictReader(fin) # comma is default delimiter\n",
    "    to_db = [(i['id'].decode(\"utf-8\"), i['key'].decode(\"utf-8\"), i['value'].decode(\"utf-8\"), i['type'].decode(\"utf-8\")) \n",
    "               for i in dr]\n",
    "\n",
    "    \n",
    "    \n",
    "# insert the formatted data\n",
    "cur.executemany(\"INSERT INTO ways_tags(id, key, value, type) VALUES (?, ?, ?, ?);\", to_db)\n",
    "# commit the changes\n",
    "conn.commit()\n",
    "\n",
    "\n",
    "#check that the data imported correctly\n",
    "\n",
    "cur.execute('SELECT * FROM ways_tags LIMIT 5')\n",
    "all_rows = cur.fetchall()\n",
    "print('1):')\n",
    "pprint(all_rows)\n"
   ]
  },
  {
   "cell_type": "code",
   "execution_count": 18,
   "metadata": {
    "collapsed": true
   },
   "outputs": [],
   "source": [
    "# close the connection:\n",
    "\n",
    "conn.close()\n"
   ]
  },
  {
   "cell_type": "code",
   "execution_count": null,
   "metadata": {
    "collapsed": true
   },
   "outputs": [],
   "source": []
  }
 ],
 "metadata": {
  "kernelspec": {
   "display_name": "Python 2",
   "language": "python",
   "name": "python2"
  },
  "language_info": {
   "codemirror_mode": {
    "name": "ipython",
    "version": 2
   },
   "file_extension": ".py",
   "mimetype": "text/x-python",
   "name": "python",
   "nbconvert_exporter": "python",
   "pygments_lexer": "ipython2",
   "version": "2.7.13"
  }
 },
 "nbformat": 4,
 "nbformat_minor": 2
}

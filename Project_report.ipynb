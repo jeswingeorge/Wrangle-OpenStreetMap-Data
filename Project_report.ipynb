{
 "cells": [
  {
   "cell_type": "markdown",
   "metadata": {},
   "source": [
    "# OpenStreetMap Data Case Study\n",
    "\n",
    "## Map Area\n",
    "\n",
    "The area selected for this project is New Delhi, India as i am familiar with the city and interested to work on this project using OSM data for this city.\n",
    "\n",
    "* https://www.openstreetmap.org/node/16173236\n",
    "* https://mapzen.com/data/metro-extracts/metro/new-delhi_india/"
   ]
  },
  {
   "cell_type": "markdown",
   "metadata": {},
   "source": [
    "## Challenges Encountered\n",
    "\n",
    "After downloading the compressed file of OSM data from the above mentioned link, the OSM file is extracted. A small sample file of the large extracted OSM file is retrieved using k = 100.   \n",
    "\n",
    "* Some street names have characters such as \n",
    "      * left barcket (\n",
    "      * right bracket )\n",
    "      * comma ,\n",
    "      * hyphen -\n",
    "      * Full stop .\n",
    "      * Slashes /,\\\n",
    "* Street names have the postal code of that place attached to the name. Eg : __Delhi-110021__\n",
    "* Key “k” tags of some nodes have their values \"v\" written in different languages such as Urdu, Hindi,etc to denote a location."
   ]
  },
  {
   "cell_type": "code",
   "execution_count": null,
   "metadata": {
    "collapsed": true
   },
   "outputs": [],
   "source": []
  },
  {
   "cell_type": "markdown",
   "metadata": {},
   "source": [
    "## Data Overview and Additional Ideas\n",
    "\n",
    "### Files size\n",
    "\n",
    "* new-delhi_india.osm.bz2 (compressed) --------- 43.9 MB\n",
    "\n",
    "* bengaluru_india.osm ---------------------------------- 718 MB"
   ]
  },
  {
   "cell_type": "code",
   "execution_count": null,
   "metadata": {
    "collapsed": true
   },
   "outputs": [],
   "source": [
    "def update_name(name, mapping):\n",
    "    \n",
    "    unwanted = ['(',')',',','/']  # List of unwanted characters \n",
    "    ch_name = ''                  # Create an empty string \n",
    "    \n",
    "    # for loop to remove unwanted strings\n",
    "    for i in range(len(name)):\n",
    "        if name[i] not in unwanted:\n",
    "            ch_name = ch_name + name[i]\n",
    "    \n",
    "    # Slicing to remove '-'\n",
    "    if ch_name[0]=='-':\n",
    "        ch_name = ch_name[1:]\n",
    "    if ch_name[-1]=='-':\n",
    "        ch_name = ch_name[:-1]\n",
    "    \n",
    "    # To remove postal codes from street name\n",
    "    if '-' in ch_name:\n",
    "        ch = ch_name.split('-')\n",
    "        if len(ch[1])>=4:\n",
    "            ch_name = ch[0]\n",
    "    \n",
    "    \n",
    "    # Capitalize the first letter of each street name and convert other letters to lower case\n",
    "    ch_name = ch_name.lower()\n",
    "    ch_name = ch_name.capitalize()\n",
    "    \n",
    "    # Mapping \n",
    "    k = mapping.keys()\n",
    "    key_list = list(k)\n",
    "    for abrev in key_list:\n",
    "        if abrev in ch_name.split():\n",
    "            ch_name = ch_name.replace(abrev,mapping[abrev])\n",
    "    \n",
    "    \n",
    "    return ch_name"
   ]
  }
 ],
 "metadata": {
  "kernelspec": {
   "display_name": "Python 2",
   "language": "python",
   "name": "python2"
  },
  "language_info": {
   "codemirror_mode": {
    "name": "ipython",
    "version": 2
   },
   "file_extension": ".py",
   "mimetype": "text/x-python",
   "name": "python",
   "nbconvert_exporter": "python",
   "pygments_lexer": "ipython2",
   "version": "2.7.13"
  }
 },
 "nbformat": 4,
 "nbformat_minor": 2
}

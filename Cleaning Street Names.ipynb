{
 "cells": [
  {
   "cell_type": "code",
   "execution_count": 1,
   "metadata": {
    "collapsed": true
   },
   "outputs": [],
   "source": [
    "import xml.etree.cElementTree as ET\n",
    "from collections import defaultdict\n",
    "import re\n",
    "import pprint"
   ]
  },
  {
   "cell_type": "code",
   "execution_count": 2,
   "metadata": {
    "collapsed": true
   },
   "outputs": [],
   "source": [
    "OSMFILE = \"sample_delhi.osm\"\n",
    "street_type_re = re.compile(r'\\b\\S+\\.?$', re.IGNORECASE)"
   ]
  },
  {
   "cell_type": "code",
   "execution_count": 4,
   "metadata": {
    "collapsed": true
   },
   "outputs": [],
   "source": [
    "expected = [\"Street\", \"Avenue\", \"Plaza\",\"Colony\", \"Lane\", \"Road\", \"Vihar\", \"University\", \"Patparganj\",\"Marg\",\"Area\",\"Market\",\n",
    "           \"Enclave\"];"
   ]
  },
  {
   "cell_type": "code",
   "execution_count": 5,
   "metadata": {
    "collapsed": true
   },
   "outputs": [],
   "source": [
    "mapping = { \"St\": \"Street\",\n",
    "            \"St.\": \"Street\",\n",
    "            \"Rd\": \"Road\",\n",
    "            \"Ave\": \"Avenue\",\n",
    "            \"Raod\": \"Road\",\n",
    "            \"Road\": \"Road\"\n",
    "            }\n"
   ]
  },
  {
   "cell_type": "code",
   "execution_count": null,
   "metadata": {
    "collapsed": true
   },
   "outputs": [],
   "source": []
  },
  {
   "cell_type": "code",
   "execution_count": null,
   "metadata": {
    "collapsed": true
   },
   "outputs": [],
   "source": [
    "def update_name(name, mapping):\n",
    "    \n",
    "    unwanted = ['(',')',',','/']  # List of unwanted characters \n",
    "    ch_name = ''                  # Create an empty string \n",
    "    \n",
    "    # for loop to remove unwanted strings\n",
    "    for i in range(len(name)):\n",
    "        if name[i] not in unwanted:\n",
    "            ch_name = ch_name + name[i]\n",
    "    \n",
    "    # Slicing to remove '-'\n",
    "    if ch_name[0]=='-':\n",
    "        ch_name = ch_name[1:]\n",
    "    if ch_name[-1]=='-':\n",
    "        ch_name = ch_name[:-1]\n",
    "    \n",
    "    # To remove postal codes from street name\n",
    "    if '-' in ch_name:\n",
    "        ch = ch_name.split('-')\n",
    "        if len(ch[1])>=4:\n",
    "            ch_name = ch[0]\n",
    "    \n",
    "    \n",
    "    # Capitalize the first letter of each street name and convert other letters to lower case\n",
    "    ch_name = ch_name.lower()\n",
    "    ch_name = ch_name.capitalize()\n",
    "    \n",
    "    # Mapping \n",
    "    k = mapping.keys()\n",
    "    key_list = list(k)\n",
    "    for abrev in key_list:\n",
    "        if abrev in ch_name.split():\n",
    "            ch_name = ch_name.replace(abrev,mapping[abrev])\n",
    "    \n",
    "    \n",
    "    return ch_name"
   ]
  },
  {
   "cell_type": "code",
   "execution_count": null,
   "metadata": {
    "collapsed": true
   },
   "outputs": [],
   "source": []
  }
 ],
 "metadata": {
  "kernelspec": {
   "display_name": "Python 2",
   "language": "python",
   "name": "python2"
  },
  "language_info": {
   "codemirror_mode": {
    "name": "ipython",
    "version": 2
   },
   "file_extension": ".py",
   "mimetype": "text/x-python",
   "name": "python",
   "nbconvert_exporter": "python",
   "pygments_lexer": "ipython2",
   "version": "2.7.13"
  }
 },
 "nbformat": 4,
 "nbformat_minor": 2
}
